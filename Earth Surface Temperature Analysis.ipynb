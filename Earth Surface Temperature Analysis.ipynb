{
 "cells": [
  {
   "cell_type": "markdown",
   "metadata": {},
   "source": [
    "# Earth Surface Temperature Analysis\n",
    "----------\n",
    "In this analysis I will be looking at the dataset _[Climate Change: Earth Surface Temperature Data](https://www.kaggle.com/berkeleyearth/climate-change-earth-surface-temperature-data)_ by Berkley Earth. This dataset consists of temperature readings from around the world that go back to at least the 1760's in some areas and up until 2013.\n",
    "\n",
    "*Note*: This analysis does not include the 95% confidence interval for temperatures.\n",
    "\n",
    "This notebook is best viewed with [Jupyter nbviewer](https://nbviewer.jupyter.org/github/kylepollina/Surface_Temperature_Analysis/blob/master/Earth%20Surface%20Temperature%20Analysis.ipynb). The *Contents* links will not work on Github.\n",
    "\n",
    "##### Contents\n",
    "1. [Preface](#Preface)\n",
    "2. [Global Land Temperatures By Country](#Global-Land-Temperatures-By-Country)\n",
    "3. [Global Land Temperatures By Major City](#Global-Land-Temperatures-By-Major-City)\n",
    "4. [Global Land Temperatures By State](#Global-Land-Temperatures-By-State)\n",
    "\n",
    "    \n",
    "\n",
    "##### Links\n",
    "- Dataset: https://www.kaggle.com/berkeleyearth/climate-change-earth-surface-temperature-data\n",
    "- Notebook: [Jupyter nbviewer](https://nbviewer.jupyter.org/github/kylepollina/Surface_Temperature_Analysis/blob/master/Earth%20Surface%20Temperature%20Analysis.ipynb)\n",
    "- Source: https://github.com/circulEarth/SurfaceTemperatures\n",
    "- Author: https://github.com/kylepollina"
   ]
  },
  {
   "cell_type": "markdown",
   "metadata": {},
   "source": [
    "## Preface\n",
    "----------\n",
    "\n",
    "1. [The data](#The-data)\n",
    "2. [Helper functions](#Helper-functions)"
   ]
  },
  {
   "cell_type": "markdown",
   "metadata": {},
   "source": [
    "### Packages\n",
    "- [pandas](https://pandas.pydata.org/): Used for reading data into [DataFrame](https://pandas.pydata.org/pandas-docs/stable/reference/api/pandas.DataFrame.html) objects\n",
    "- [altair](https://altair-viz.github.io/): Used for plotting and interactive visualization\n",
    "- [os](https://docs.python.org/3/library/os.html): Used for operating system behavior, specifically [walking](https://docs.python.org/3/library/os.html?highlight=os%20walk#os.walk) through the filesystem\n",
    "- [datetime.date](https://docs.python.org/2/library/datetime.html#date-objects): Used for reading/parsing dates from strings using [datetime.date.fromisoformat()](https://docs.python.org/3/library/datetime.html#datetime.date.fromisoformat)"
   ]
  },
  {
   "cell_type": "code",
   "execution_count": 1,
   "metadata": {},
   "outputs": [],
   "source": [
    "import pandas\n",
    "import altair as alt\n",
    "import os\n",
    "from datetime import date"
   ]
  },
  {
   "cell_type": "markdown",
   "metadata": {},
   "source": [
    "### The data\n",
    "This dataset consists of five sources. I have downloaded them into a directory named `/data/BerkleyEarth`. The `datafiles` list below consists of the names of each of the five .csv files. "
   ]
  },
  {
   "cell_type": "code",
   "execution_count": 2,
   "metadata": {},
   "outputs": [
    {
     "name": "stdout",
     "output_type": "stream",
     "text": [
      "[]\n"
     ]
    }
   ],
   "source": [
    "datafiles = []\n",
    "\n",
    "for directory, _, files in os.walk('data/BerkleyEarth'):\n",
    "    for file in files:\n",
    "        filename = os.path.join(directory, file)\n",
    "        datafiles.append(filename)\n",
    "\n",
    "print(datafiles)"
   ]
  },
  {
   "cell_type": "markdown",
   "metadata": {},
   "source": [
    "`print_datafiles()` - Orderly print each datafile and index within the `datafiles` list"
   ]
  },
  {
   "cell_type": "code",
   "execution_count": 3,
   "metadata": {},
   "outputs": [],
   "source": [
    "def print_datafiles():\n",
    "    for index, filename in enumerate(datafiles):\n",
    "        print(str(index) + \". \" + filename)\n",
    "            \n",
    "print_datafiles()"
   ]
  },
  {
   "cell_type": "markdown",
   "metadata": {},
   "source": [
    "#### Temperatures by Country"
   ]
  },
  {
   "cell_type": "code",
   "execution_count": 4,
   "metadata": {},
   "outputs": [
    {
     "ename": "FileNotFoundError",
     "evalue": "[Errno 2] File data/BerkleyEarth/GlobalLandTemperaturesByCountry.csv does not exist: 'data/BerkleyEarth/GlobalLandTemperaturesByCountry.csv'",
     "output_type": "error",
     "traceback": [
      "\u001b[0;31m---------------------------------------------------------------------------\u001b[0m",
      "\u001b[0;31mFileNotFoundError\u001b[0m                         Traceback (most recent call last)",
      "\u001b[0;32m<ipython-input-4-fa5f0842fc46>\u001b[0m in \u001b[0;36m<module>\u001b[0;34m\u001b[0m\n\u001b[1;32m      1\u001b[0m \u001b[0;31m# Load country data into DataFrame named `country_temps`\u001b[0m\u001b[0;34m\u001b[0m\u001b[0;34m\u001b[0m\u001b[0;34m\u001b[0m\u001b[0m\n\u001b[0;32m----> 2\u001b[0;31m \u001b[0mcountry_temps\u001b[0m \u001b[0;34m=\u001b[0m \u001b[0mpandas\u001b[0m\u001b[0;34m.\u001b[0m\u001b[0mread_csv\u001b[0m\u001b[0;34m(\u001b[0m\u001b[0;34m'data/BerkleyEarth/GlobalLandTemperaturesByCountry.csv'\u001b[0m\u001b[0;34m)\u001b[0m\u001b[0;34m\u001b[0m\u001b[0;34m\u001b[0m\u001b[0m\n\u001b[0m\u001b[1;32m      3\u001b[0m \u001b[0;34m\u001b[0m\u001b[0m\n\u001b[1;32m      4\u001b[0m \u001b[0;31m# Drop any rows with a NaN/Empty values for any of the attributes\u001b[0m\u001b[0;34m\u001b[0m\u001b[0;34m\u001b[0m\u001b[0;34m\u001b[0m\u001b[0m\n\u001b[1;32m      5\u001b[0m \u001b[0mcountry_temps\u001b[0m \u001b[0;34m=\u001b[0m \u001b[0mcountry_temps\u001b[0m\u001b[0;34m.\u001b[0m\u001b[0mdropna\u001b[0m\u001b[0;34m(\u001b[0m\u001b[0;34m)\u001b[0m\u001b[0;34m\u001b[0m\u001b[0;34m\u001b[0m\u001b[0m\n",
      "\u001b[0;32m~/Library/Caches/pypoetry/virtualenvs/earthscience-ymi8gmwg-py3.8/lib/python3.8/site-packages/pandas/io/parsers.py\u001b[0m in \u001b[0;36mparser_f\u001b[0;34m(filepath_or_buffer, sep, delimiter, header, names, index_col, usecols, squeeze, prefix, mangle_dupe_cols, dtype, engine, converters, true_values, false_values, skipinitialspace, skiprows, skipfooter, nrows, na_values, keep_default_na, na_filter, verbose, skip_blank_lines, parse_dates, infer_datetime_format, keep_date_col, date_parser, dayfirst, cache_dates, iterator, chunksize, compression, thousands, decimal, lineterminator, quotechar, quoting, doublequote, escapechar, comment, encoding, dialect, error_bad_lines, warn_bad_lines, delim_whitespace, low_memory, memory_map, float_precision)\u001b[0m\n\u001b[1;32m    674\u001b[0m         )\n\u001b[1;32m    675\u001b[0m \u001b[0;34m\u001b[0m\u001b[0m\n\u001b[0;32m--> 676\u001b[0;31m         \u001b[0;32mreturn\u001b[0m \u001b[0m_read\u001b[0m\u001b[0;34m(\u001b[0m\u001b[0mfilepath_or_buffer\u001b[0m\u001b[0;34m,\u001b[0m \u001b[0mkwds\u001b[0m\u001b[0;34m)\u001b[0m\u001b[0;34m\u001b[0m\u001b[0;34m\u001b[0m\u001b[0m\n\u001b[0m\u001b[1;32m    677\u001b[0m \u001b[0;34m\u001b[0m\u001b[0m\n\u001b[1;32m    678\u001b[0m     \u001b[0mparser_f\u001b[0m\u001b[0;34m.\u001b[0m\u001b[0m__name__\u001b[0m \u001b[0;34m=\u001b[0m \u001b[0mname\u001b[0m\u001b[0;34m\u001b[0m\u001b[0;34m\u001b[0m\u001b[0m\n",
      "\u001b[0;32m~/Library/Caches/pypoetry/virtualenvs/earthscience-ymi8gmwg-py3.8/lib/python3.8/site-packages/pandas/io/parsers.py\u001b[0m in \u001b[0;36m_read\u001b[0;34m(filepath_or_buffer, kwds)\u001b[0m\n\u001b[1;32m    446\u001b[0m \u001b[0;34m\u001b[0m\u001b[0m\n\u001b[1;32m    447\u001b[0m     \u001b[0;31m# Create the parser.\u001b[0m\u001b[0;34m\u001b[0m\u001b[0;34m\u001b[0m\u001b[0;34m\u001b[0m\u001b[0m\n\u001b[0;32m--> 448\u001b[0;31m     \u001b[0mparser\u001b[0m \u001b[0;34m=\u001b[0m \u001b[0mTextFileReader\u001b[0m\u001b[0;34m(\u001b[0m\u001b[0mfp_or_buf\u001b[0m\u001b[0;34m,\u001b[0m \u001b[0;34m**\u001b[0m\u001b[0mkwds\u001b[0m\u001b[0;34m)\u001b[0m\u001b[0;34m\u001b[0m\u001b[0;34m\u001b[0m\u001b[0m\n\u001b[0m\u001b[1;32m    449\u001b[0m \u001b[0;34m\u001b[0m\u001b[0m\n\u001b[1;32m    450\u001b[0m     \u001b[0;32mif\u001b[0m \u001b[0mchunksize\u001b[0m \u001b[0;32mor\u001b[0m \u001b[0miterator\u001b[0m\u001b[0;34m:\u001b[0m\u001b[0;34m\u001b[0m\u001b[0;34m\u001b[0m\u001b[0m\n",
      "\u001b[0;32m~/Library/Caches/pypoetry/virtualenvs/earthscience-ymi8gmwg-py3.8/lib/python3.8/site-packages/pandas/io/parsers.py\u001b[0m in \u001b[0;36m__init__\u001b[0;34m(self, f, engine, **kwds)\u001b[0m\n\u001b[1;32m    878\u001b[0m             \u001b[0mself\u001b[0m\u001b[0;34m.\u001b[0m\u001b[0moptions\u001b[0m\u001b[0;34m[\u001b[0m\u001b[0;34m\"has_index_names\"\u001b[0m\u001b[0;34m]\u001b[0m \u001b[0;34m=\u001b[0m \u001b[0mkwds\u001b[0m\u001b[0;34m[\u001b[0m\u001b[0;34m\"has_index_names\"\u001b[0m\u001b[0;34m]\u001b[0m\u001b[0;34m\u001b[0m\u001b[0;34m\u001b[0m\u001b[0m\n\u001b[1;32m    879\u001b[0m \u001b[0;34m\u001b[0m\u001b[0m\n\u001b[0;32m--> 880\u001b[0;31m         \u001b[0mself\u001b[0m\u001b[0;34m.\u001b[0m\u001b[0m_make_engine\u001b[0m\u001b[0;34m(\u001b[0m\u001b[0mself\u001b[0m\u001b[0;34m.\u001b[0m\u001b[0mengine\u001b[0m\u001b[0;34m)\u001b[0m\u001b[0;34m\u001b[0m\u001b[0;34m\u001b[0m\u001b[0m\n\u001b[0m\u001b[1;32m    881\u001b[0m \u001b[0;34m\u001b[0m\u001b[0m\n\u001b[1;32m    882\u001b[0m     \u001b[0;32mdef\u001b[0m \u001b[0mclose\u001b[0m\u001b[0;34m(\u001b[0m\u001b[0mself\u001b[0m\u001b[0;34m)\u001b[0m\u001b[0;34m:\u001b[0m\u001b[0;34m\u001b[0m\u001b[0;34m\u001b[0m\u001b[0m\n",
      "\u001b[0;32m~/Library/Caches/pypoetry/virtualenvs/earthscience-ymi8gmwg-py3.8/lib/python3.8/site-packages/pandas/io/parsers.py\u001b[0m in \u001b[0;36m_make_engine\u001b[0;34m(self, engine)\u001b[0m\n\u001b[1;32m   1112\u001b[0m     \u001b[0;32mdef\u001b[0m \u001b[0m_make_engine\u001b[0m\u001b[0;34m(\u001b[0m\u001b[0mself\u001b[0m\u001b[0;34m,\u001b[0m \u001b[0mengine\u001b[0m\u001b[0;34m=\u001b[0m\u001b[0;34m\"c\"\u001b[0m\u001b[0;34m)\u001b[0m\u001b[0;34m:\u001b[0m\u001b[0;34m\u001b[0m\u001b[0;34m\u001b[0m\u001b[0m\n\u001b[1;32m   1113\u001b[0m         \u001b[0;32mif\u001b[0m \u001b[0mengine\u001b[0m \u001b[0;34m==\u001b[0m \u001b[0;34m\"c\"\u001b[0m\u001b[0;34m:\u001b[0m\u001b[0;34m\u001b[0m\u001b[0;34m\u001b[0m\u001b[0m\n\u001b[0;32m-> 1114\u001b[0;31m             \u001b[0mself\u001b[0m\u001b[0;34m.\u001b[0m\u001b[0m_engine\u001b[0m \u001b[0;34m=\u001b[0m \u001b[0mCParserWrapper\u001b[0m\u001b[0;34m(\u001b[0m\u001b[0mself\u001b[0m\u001b[0;34m.\u001b[0m\u001b[0mf\u001b[0m\u001b[0;34m,\u001b[0m \u001b[0;34m**\u001b[0m\u001b[0mself\u001b[0m\u001b[0;34m.\u001b[0m\u001b[0moptions\u001b[0m\u001b[0;34m)\u001b[0m\u001b[0;34m\u001b[0m\u001b[0;34m\u001b[0m\u001b[0m\n\u001b[0m\u001b[1;32m   1115\u001b[0m         \u001b[0;32melse\u001b[0m\u001b[0;34m:\u001b[0m\u001b[0;34m\u001b[0m\u001b[0;34m\u001b[0m\u001b[0m\n\u001b[1;32m   1116\u001b[0m             \u001b[0;32mif\u001b[0m \u001b[0mengine\u001b[0m \u001b[0;34m==\u001b[0m \u001b[0;34m\"python\"\u001b[0m\u001b[0;34m:\u001b[0m\u001b[0;34m\u001b[0m\u001b[0;34m\u001b[0m\u001b[0m\n",
      "\u001b[0;32m~/Library/Caches/pypoetry/virtualenvs/earthscience-ymi8gmwg-py3.8/lib/python3.8/site-packages/pandas/io/parsers.py\u001b[0m in \u001b[0;36m__init__\u001b[0;34m(self, src, **kwds)\u001b[0m\n\u001b[1;32m   1889\u001b[0m         \u001b[0mkwds\u001b[0m\u001b[0;34m[\u001b[0m\u001b[0;34m\"usecols\"\u001b[0m\u001b[0;34m]\u001b[0m \u001b[0;34m=\u001b[0m \u001b[0mself\u001b[0m\u001b[0;34m.\u001b[0m\u001b[0musecols\u001b[0m\u001b[0;34m\u001b[0m\u001b[0;34m\u001b[0m\u001b[0m\n\u001b[1;32m   1890\u001b[0m \u001b[0;34m\u001b[0m\u001b[0m\n\u001b[0;32m-> 1891\u001b[0;31m         \u001b[0mself\u001b[0m\u001b[0;34m.\u001b[0m\u001b[0m_reader\u001b[0m \u001b[0;34m=\u001b[0m \u001b[0mparsers\u001b[0m\u001b[0;34m.\u001b[0m\u001b[0mTextReader\u001b[0m\u001b[0;34m(\u001b[0m\u001b[0msrc\u001b[0m\u001b[0;34m,\u001b[0m \u001b[0;34m**\u001b[0m\u001b[0mkwds\u001b[0m\u001b[0;34m)\u001b[0m\u001b[0;34m\u001b[0m\u001b[0;34m\u001b[0m\u001b[0m\n\u001b[0m\u001b[1;32m   1892\u001b[0m         \u001b[0mself\u001b[0m\u001b[0;34m.\u001b[0m\u001b[0munnamed_cols\u001b[0m \u001b[0;34m=\u001b[0m \u001b[0mself\u001b[0m\u001b[0;34m.\u001b[0m\u001b[0m_reader\u001b[0m\u001b[0;34m.\u001b[0m\u001b[0munnamed_cols\u001b[0m\u001b[0;34m\u001b[0m\u001b[0;34m\u001b[0m\u001b[0m\n\u001b[1;32m   1893\u001b[0m \u001b[0;34m\u001b[0m\u001b[0m\n",
      "\u001b[0;32mpandas/_libs/parsers.pyx\u001b[0m in \u001b[0;36mpandas._libs.parsers.TextReader.__cinit__\u001b[0;34m()\u001b[0m\n",
      "\u001b[0;32mpandas/_libs/parsers.pyx\u001b[0m in \u001b[0;36mpandas._libs.parsers.TextReader._setup_parser_source\u001b[0;34m()\u001b[0m\n",
      "\u001b[0;31mFileNotFoundError\u001b[0m: [Errno 2] File data/BerkleyEarth/GlobalLandTemperaturesByCountry.csv does not exist: 'data/BerkleyEarth/GlobalLandTemperaturesByCountry.csv'"
     ]
    }
   ],
   "source": [
    "# Load country data into DataFrame named `country_temps`\n",
    "country_temps = pandas.read_csv('data/BerkleyEarth/GlobalLandTemperaturesByCountry.csv')\n",
    "\n",
    "# Drop any rows with a NaN/Empty values for any of the attributes\n",
    "country_temps = country_temps.dropna()\n",
    "\n",
    "# Save each unique country name into a set\n",
    "all_countries = set(country_temps['Country'])\n",
    "\n",
    "# Display DataFrame\n",
    "country_temps"
   ]
  },
  {
   "cell_type": "markdown",
   "metadata": {},
   "source": [
    "#### Temperatures by State"
   ]
  },
  {
   "cell_type": "code",
   "execution_count": null,
   "metadata": {},
   "outputs": [],
   "source": [
    "# Load state data into DataFrame named `state_temps`\n",
    "state_temps = pandas.read_csv('data/BerkleyEarth/GlobalLandTemperaturesByState.csv')\n",
    "\n",
    "# Drop any rows with a NaN/Empty value for any of the attributes\n",
    "state_temps = state_temps.dropna()\n",
    "\n",
    "# Save each unique state name into a set\n",
    "all_states = set(state_temps['State'])\n",
    "\n",
    "# Display DataFrame\n",
    "state_temps"
   ]
  },
  {
   "cell_type": "markdown",
   "metadata": {},
   "source": [
    "#### Temperature by Major City"
   ]
  },
  {
   "cell_type": "code",
   "execution_count": null,
   "metadata": {},
   "outputs": [],
   "source": [
    "# Load state data into DataFrame named `major_city_temps`\n",
    "major_city_temps = pandas.read_csv('data/BerkleyEarth/GlobalLandTemperaturesByMajorCity.csv')\n",
    "\n",
    "# Drop any rows with a NaN/Empty value for any of the attributes\n",
    "major_city_temps = major_city_temps.dropna()\n",
    "\n",
    "# Save each unique major city name into a set\n",
    "all_major_cities = set(major_city_temps['City'])\n",
    "\n",
    "# Display DataFrame\n",
    "major_city_temps"
   ]
  },
  {
   "cell_type": "markdown",
   "metadata": {},
   "source": [
    "#### Temperature by City\n",
    "The 'Temperature By City' dataset is much larger than the others and takes significantly more time to load. I have commented out the loading of the dataset to save run time, but left this in for possible future analysis of each city."
   ]
  },
  {
   "cell_type": "code",
   "execution_count": null,
   "metadata": {},
   "outputs": [],
   "source": [
    "# Load state data into DataFrame named `major_city_temps`\n",
    "# city_temps = pandas.read_csv('data/BerkleyEarth/GlobalLandTemperaturesByCity.csv')\n",
    "\n",
    "# Drop any rows with a NaN/Empty value for any of the attributes\n",
    "# city_temps = city_temps.dropna() \n",
    "\n",
    "# Save each unique major city name into a set\n",
    "# all_cities = set(city_temps['City'])\n",
    "\n",
    "# Display DataFrame\n",
    "# city_temps"
   ]
  },
  {
   "cell_type": "markdown",
   "metadata": {},
   "source": [
    "### Helper functions"
   ]
  },
  {
   "cell_type": "markdown",
   "metadata": {},
   "source": [
    "`yearly_temps(location)` - Returns a [DataFrame](https://pandas.pydata.org/pandas-docs/stable/reference/api/pandas.DataFrame.html) of average temperatures recorded over each year for given location.\n",
    "\n",
    "Parameters:\n",
    "- `location` - String of location, name of Country, State, or Major City\n",
    "- `dataset` - Optional argument to force lookup in specific dataset. For example, `New York` appears in `state_temps` and `major_city_temps`. `dataset` can equal one of the following three values (defaults to `None` if no dataset specified):\n",
    "    - `'Country'`\n",
    "    - `'State'`\n",
    "    - `'Major City'`\n",
    "\n",
    "*examples* \n",
    "\n",
    "`new_york_temps = yearly_temps('New York', dataset = 'State')`\n",
    "\n",
    "`new_york_city_temps = yearly_temps('New York', dataset = 'Major City')`"
   ]
  },
  {
   "cell_type": "code",
   "execution_count": null,
   "metadata": {},
   "outputs": [],
   "source": [
    "def get_yearly_temps(location, dataset = None):\n",
    "    \n",
    "    # Search location in country dataset\n",
    "    if location in all_countries and (dataset is None or (dataset == 'Country')):\n",
    "        # Filter country_temps by given country\n",
    "        filtered_temps = country_temps[country_temps['Country'] == location]\n",
    "    \n",
    "    # Search location in state dataset\n",
    "    elif location in all_states and (dataset is None or (dataset == 'State')):\n",
    "        # Filter state_temps by given state\n",
    "        filtered_temps = state_temps[state_temps['State'] == location]\n",
    "    \n",
    "    # Search location in major city dataset\n",
    "    elif location in all_major_cities and (dataset is None or (dataset == 'Major City')):\n",
    "        # Filter major_city_temps by given city\n",
    "        filtered_temps = major_city_temps[major_city_temps['City'] == location]\n",
    "    \n",
    "    # Location not found\n",
    "    else:\n",
    "        raise ValueError(\"Location not found in any loaded dataset\")\n",
    "        \n",
    "    # Sort recorded temperatures by date\n",
    "    filtered_temps = filtered_temps.sort_values(by = ['dt'])\n",
    "    \n",
    "    # Result data to be returned\n",
    "    yearly_temps = {'Year': [], 'AverageTemperature': []}\n",
    "    \n",
    "    # Get year from ISO date\n",
    "    first_recorded_year = date.fromisoformat(filtered_temps.iloc[0]['dt']).year\n",
    "    current_year = first_recorded_year\n",
    "    \n",
    "    # Sum and total used for averaging\n",
    "    sum_temps = 0.0\n",
    "    total_dates_in_year = 0\n",
    "    \n",
    "    for index, row in filtered_temps.iterrows():\n",
    "        # Convert the `dt` value into a Python Date object\n",
    "        current_date = date.fromisoformat(row['dt'])\n",
    "    \n",
    "        # If we have switched over into a new year\n",
    "        if current_date.year != current_year: \n",
    "            # Average temperatures over previous year\n",
    "            yearly_avg_temp = sum_temps / total_dates_in_year\n",
    "            \n",
    "            # Add to result data\n",
    "            yearly_temps['Year'].append(current_year)\n",
    "            yearly_temps['AverageTemperature'].append(yearly_avg_temp)\n",
    "            \n",
    "            # Update current_year\n",
    "            current_year = current_date.year\n",
    "            \n",
    "            # Reset sum/total\n",
    "            sum_temps = 0.0\n",
    "            total_dates_in_year = 0\n",
    "    \n",
    "        # Increase sum/total\n",
    "        sum_temps += row['AverageTemperature']\n",
    "        total_dates_in_year += 1\n",
    "    \n",
    "    # Convert resulting data into DataFrame and return\n",
    "    return pandas.DataFrame(data = yearly_temps)\n",
    "    "
   ]
  },
  {
   "cell_type": "markdown",
   "metadata": {},
   "source": [
    "## Global Land Temperatures By Country\n",
    "-------\n",
    "\n",
    "1. [North America](#North-America)\n",
    "2. [South America](#South-America)\n",
    "3. [Europe](#Europe)\n",
    "4. [Africa](#Africa)\n",
    "5. [Asia](#Asia)\n",
    "6. [Oceania](#Oceania)"
   ]
  },
  {
   "cell_type": "markdown",
   "metadata": {},
   "source": [
    "### North America"
   ]
  },
  {
   "cell_type": "code",
   "execution_count": null,
   "metadata": {},
   "outputs": [],
   "source": [
    "location = 'United States'\n",
    "temps = get_yearly_temps(location)\n",
    "\n",
    "# Line plot using Altair\n",
    "alt.Chart(temps).mark_line().encode(\n",
    "    x = 'Year:O',\n",
    "    y = alt.Y('AverageTemperature', scale=alt.Scale(zero=False))\n",
    ").properties(\n",
    "    title = 'Yearly Average Temperatures (C) of ' + location,\n",
    "    width = 800\n",
    ")"
   ]
  },
  {
   "cell_type": "code",
   "execution_count": null,
   "metadata": {},
   "outputs": [],
   "source": [
    "location = 'Canada'\n",
    "temps = get_yearly_temps(location)\n",
    "\n",
    "# Line plot using Altair\n",
    "alt.Chart(temps).mark_line().encode(\n",
    "    x = 'Year:O',\n",
    "    y = alt.Y('AverageTemperature', scale=alt.Scale(zero=False))\n",
    ").properties(\n",
    "    title = 'Yearly Average Temperatures (C) of ' + location,\n",
    "    width = 800\n",
    ")"
   ]
  },
  {
   "cell_type": "code",
   "execution_count": null,
   "metadata": {},
   "outputs": [],
   "source": [
    "location = 'Mexico'\n",
    "temps = get_yearly_temps(location)\n",
    "\n",
    "# Line plot using Altair\n",
    "alt.Chart(temps).mark_line().encode(\n",
    "    x = 'Year:O',\n",
    "    y = alt.Y('AverageTemperature', scale=alt.Scale(zero=False))\n",
    ").properties(\n",
    "    title = 'Yearly Average Temperatures (C) of ' + location,\n",
    "    width = 800\n",
    ")"
   ]
  },
  {
   "cell_type": "code",
   "execution_count": null,
   "metadata": {},
   "outputs": [],
   "source": [
    "location = 'North America'\n",
    "temps = get_yearly_temps(location)\n",
    "\n",
    "# Line plot using Altair\n",
    "alt.Chart(temps).mark_line().encode(\n",
    "    x = 'Year:O',\n",
    "    y = alt.Y('AverageTemperature', scale=alt.Scale(zero=False))\n",
    ").properties(\n",
    "    title = 'Yearly Average Temperatures (C) of ' + location,\n",
    "    width = 800\n",
    ")"
   ]
  },
  {
   "cell_type": "code",
   "execution_count": null,
   "metadata": {},
   "outputs": [],
   "source": [
    "location = 'North America'\n",
    "temps = get_yearly_temps(location)\n",
    "\n",
    "# Line plot using Altair\n",
    "alt.Chart(temps).mark_line().encode(\n",
    "    x = 'Year:O',\n",
    "    y = alt.Y('AverageTemperature', scale=alt.Scale(zero=False))\n",
    ").properties(\n",
    "    title = 'Yearly Average Temperatures (C) of ' + location,\n",
    "    width = 800\n",
    ")"
   ]
  },
  {
   "cell_type": "markdown",
   "metadata": {},
   "source": [
    "### South America"
   ]
  },
  {
   "cell_type": "code",
   "execution_count": null,
   "metadata": {},
   "outputs": [],
   "source": [
    "location = 'Brazil'\n",
    "temps = get_yearly_temps(location)\n",
    "\n",
    "# Line plot using Altair\n",
    "alt.Chart(temps).mark_line().encode(\n",
    "    x = 'Year:O',\n",
    "    y = alt.Y('AverageTemperature', scale=alt.Scale(zero=False))\n",
    ").properties(\n",
    "    title = 'Yearly Average Temperatures (C) of ' + location,\n",
    "    width = 800\n",
    ")"
   ]
  },
  {
   "cell_type": "code",
   "execution_count": null,
   "metadata": {},
   "outputs": [],
   "source": [
    "location = 'Chile'\n",
    "temps = get_yearly_temps(location)\n",
    "\n",
    "# Line plot using Altair\n",
    "alt.Chart(temps).mark_line().encode(\n",
    "    x = 'Year:O',\n",
    "    y = alt.Y('AverageTemperature', scale=alt.Scale(zero=False))\n",
    ").properties(\n",
    "    title = 'Yearly Average Temperatures (C) of ' + location,\n",
    "    width = 800\n",
    ")"
   ]
  },
  {
   "cell_type": "code",
   "execution_count": null,
   "metadata": {},
   "outputs": [],
   "source": [
    "location = 'Argentina'\n",
    "temps = get_yearly_temps(location)\n",
    "\n",
    "# Line plot using Altair\n",
    "alt.Chart(temps).mark_line().encode(\n",
    "    x = 'Year:O',\n",
    "    y = alt.Y('AverageTemperature', scale=alt.Scale(zero=False))\n",
    ").properties(\n",
    "    title = 'Yearly Average Temperatures (C) of ' + location,\n",
    "    width = 800\n",
    ")"
   ]
  },
  {
   "cell_type": "code",
   "execution_count": null,
   "metadata": {},
   "outputs": [],
   "source": [
    "location = 'Venezuela'\n",
    "temps = get_yearly_temps(location)\n",
    "\n",
    "# Line plot using Altair\n",
    "alt.Chart(temps).mark_line().encode(\n",
    "    x = 'Year:O',\n",
    "    y = alt.Y('AverageTemperature', scale=alt.Scale(zero=False))\n",
    ").properties(\n",
    "    title = 'Yearly Average Temperatures (C) of ' + location,\n",
    "    width = 800\n",
    ")"
   ]
  },
  {
   "cell_type": "code",
   "execution_count": null,
   "metadata": {},
   "outputs": [],
   "source": [
    "location = 'South America'\n",
    "temps = get_yearly_temps(location)\n",
    "\n",
    "# Line plot using Altair\n",
    "alt.Chart(temps).mark_line().encode(\n",
    "    x = 'Year:O',\n",
    "    y = alt.Y('AverageTemperature', scale=alt.Scale(zero=False))\n",
    ").properties(\n",
    "    title = 'Yearly Average Temperatures (C) of ' + location,\n",
    "    width = 800\n",
    ")"
   ]
  },
  {
   "cell_type": "markdown",
   "metadata": {},
   "source": [
    "### Europe"
   ]
  },
  {
   "cell_type": "code",
   "execution_count": null,
   "metadata": {},
   "outputs": [],
   "source": [
    "location = 'United Kingdom'\n",
    "temps = get_yearly_temps(location)\n",
    "\n",
    "# Line plot using Altair\n",
    "alt.Chart(temps).mark_line().encode(\n",
    "    x = 'Year:O',\n",
    "    y = alt.Y('AverageTemperature', scale=alt.Scale(zero=False))\n",
    ").properties(\n",
    "    title = 'Yearly Average Temperatures (C) of ' + location,\n",
    "    width = 800\n",
    ")"
   ]
  },
  {
   "cell_type": "code",
   "execution_count": null,
   "metadata": {},
   "outputs": [],
   "source": [
    "location = 'France'\n",
    "temps = get_yearly_temps(location)\n",
    "\n",
    "# Line plot using Altair\n",
    "alt.Chart(temps).mark_line().encode(\n",
    "    x = 'Year:O',\n",
    "    y = alt.Y('AverageTemperature', scale=alt.Scale(zero=False))\n",
    ").properties(\n",
    "    title = 'Yearly Average Temperatures (C) of ' + location,\n",
    "    width = 800\n",
    ")"
   ]
  },
  {
   "cell_type": "code",
   "execution_count": null,
   "metadata": {},
   "outputs": [],
   "source": [
    "location = 'Germany'\n",
    "temps = get_yearly_temps(location)\n",
    "\n",
    "# Line plot using Altair\n",
    "alt.Chart(temps).mark_line().encode(\n",
    "    x = 'Year:O',\n",
    "    y = alt.Y('AverageTemperature', scale=alt.Scale(zero=False))\n",
    ").properties(\n",
    "    title = 'Yearly Average Temperatures (C) of ' + location,\n",
    "    width = 800\n",
    ")"
   ]
  },
  {
   "cell_type": "code",
   "execution_count": null,
   "metadata": {},
   "outputs": [],
   "source": [
    "location = 'Spain'\n",
    "temps = get_yearly_temps(location)\n",
    "\n",
    "# Line plot using Altair\n",
    "alt.Chart(temps).mark_line().encode(\n",
    "    x = 'Year:O',\n",
    "    y = alt.Y('AverageTemperature', scale=alt.Scale(zero=False))\n",
    ").properties(\n",
    "    title = 'Yearly Average Temperatures (C) of ' + location,\n",
    "    width = 800\n",
    ")"
   ]
  },
  {
   "cell_type": "code",
   "execution_count": null,
   "metadata": {},
   "outputs": [],
   "source": [
    "location = 'Sweden'\n",
    "temps = get_yearly_temps(location)\n",
    "\n",
    "# Line plot using Altair\n",
    "alt.Chart(temps).mark_line().encode(\n",
    "    x = 'Year:O',\n",
    "    y = alt.Y('AverageTemperature', scale=alt.Scale(zero=False))\n",
    ").properties(\n",
    "    title = 'Yearly Average Temperatures (C) of ' + location,\n",
    "    width = 800\n",
    ")"
   ]
  },
  {
   "cell_type": "code",
   "execution_count": null,
   "metadata": {},
   "outputs": [],
   "source": [
    "location = 'Europe'\n",
    "temps = get_yearly_temps(location)\n",
    "\n",
    "# Line plot using Altair\n",
    "alt.Chart(temps).mark_line().encode(\n",
    "    x = 'Year:O',\n",
    "    y = alt.Y('AverageTemperature', scale=alt.Scale(zero=False))\n",
    ").properties(\n",
    "    title = 'Yearly Average Temperatures (C) of ' + location,\n",
    "    width = 800\n",
    ")"
   ]
  },
  {
   "cell_type": "markdown",
   "metadata": {},
   "source": [
    "### Africa"
   ]
  },
  {
   "cell_type": "code",
   "execution_count": null,
   "metadata": {},
   "outputs": [],
   "source": [
    "location = 'Egypt'\n",
    "temps = get_yearly_temps(location)\n",
    "\n",
    "# Line plot using Altair\n",
    "alt.Chart(temps).mark_line().encode(\n",
    "    x = 'Year:O',\n",
    "    y = alt.Y('AverageTemperature', scale=alt.Scale(zero=False))\n",
    ").properties(\n",
    "    title = 'Yearly Average Temperatures (C) of ' + location,\n",
    "    width = 800\n",
    ")"
   ]
  },
  {
   "cell_type": "code",
   "execution_count": null,
   "metadata": {},
   "outputs": [],
   "source": [
    "location = 'South Africa'\n",
    "temps = get_yearly_temps(location)\n",
    "\n",
    "# Line plot using Altair\n",
    "alt.Chart(temps).mark_line().encode(\n",
    "    x = 'Year:O',\n",
    "    y = alt.Y('AverageTemperature', scale=alt.Scale(zero=False))\n",
    ").properties(\n",
    "    title = 'Yearly Average Temperatures (C) of ' + location,\n",
    "    width = 800\n",
    ")"
   ]
  },
  {
   "cell_type": "code",
   "execution_count": null,
   "metadata": {},
   "outputs": [],
   "source": [
    "location = 'Kenya'\n",
    "temps = get_yearly_temps(location)\n",
    "\n",
    "# Line plot using Altair\n",
    "alt.Chart(temps).mark_line().encode(\n",
    "    x = 'Year:O',\n",
    "    y = alt.Y('AverageTemperature', scale=alt.Scale(zero=False))\n",
    ").properties(\n",
    "    title = 'Yearly Average Temperatures (C) of ' + location,\n",
    "    width = 800\n",
    ")"
   ]
  },
  {
   "cell_type": "code",
   "execution_count": null,
   "metadata": {},
   "outputs": [],
   "source": [
    "location = 'Uganda'\n",
    "temps = get_yearly_temps(location)\n",
    "\n",
    "# Line plot using Altair\n",
    "alt.Chart(temps).mark_line().encode(\n",
    "    x = 'Year:O',\n",
    "    y = alt.Y('AverageTemperature', scale=alt.Scale(zero=False))\n",
    ").properties(\n",
    "    title = 'Yearly Average Temperatures (C) of ' + location,\n",
    "    width = 800\n",
    ")"
   ]
  },
  {
   "cell_type": "code",
   "execution_count": null,
   "metadata": {},
   "outputs": [],
   "source": [
    "location = 'Africa'\n",
    "temps = get_yearly_temps(location)\n",
    "\n",
    "# Line plot using Altair\n",
    "alt.Chart(temps).mark_line().encode(\n",
    "    x = 'Year:O',\n",
    "    y = alt.Y('AverageTemperature', scale=alt.Scale(zero=False))\n",
    ").properties(\n",
    "    title = 'Yearly Average Temperatures (C) of ' + location,\n",
    "    width = 800\n",
    ")"
   ]
  },
  {
   "cell_type": "markdown",
   "metadata": {},
   "source": [
    "### Asia"
   ]
  },
  {
   "cell_type": "code",
   "execution_count": null,
   "metadata": {},
   "outputs": [],
   "source": [
    "location = 'China'\n",
    "temps = get_yearly_temps(location)\n",
    "\n",
    "# Line plot using Altair\n",
    "alt.Chart(temps).mark_line().encode(\n",
    "    x = 'Year:O',\n",
    "    y = alt.Y('AverageTemperature', scale=alt.Scale(zero=False))\n",
    ").properties(\n",
    "    title = 'Yearly Average Temperatures (C) of ' + location,\n",
    "    width = 800\n",
    ")"
   ]
  },
  {
   "cell_type": "code",
   "execution_count": null,
   "metadata": {},
   "outputs": [],
   "source": [
    "location = 'India'\n",
    "temps = get_yearly_temps(location)\n",
    "\n",
    "# Line plot using Altair\n",
    "alt.Chart(temps).mark_line().encode(\n",
    "    x = 'Year:O',\n",
    "    y = alt.Y('AverageTemperature', scale=alt.Scale(zero=False))\n",
    ").properties(\n",
    "    title = 'Yearly Average Temperatures (C) of ' + location,\n",
    "    width = 800\n",
    ")"
   ]
  },
  {
   "cell_type": "code",
   "execution_count": null,
   "metadata": {},
   "outputs": [],
   "source": [
    "location = 'Russia'\n",
    "temps = get_yearly_temps(location)\n",
    "\n",
    "# Line plot using Altair\n",
    "alt.Chart(temps).mark_line().encode(\n",
    "    x = 'Year:O',\n",
    "    y = alt.Y('AverageTemperature', scale=alt.Scale(zero=False))\n",
    ").properties(\n",
    "    title = 'Yearly Average Temperatures (C) of ' + location,\n",
    "    width = 800\n",
    ")"
   ]
  },
  {
   "cell_type": "code",
   "execution_count": null,
   "metadata": {},
   "outputs": [],
   "source": [
    "location = 'Japan'\n",
    "temps = get_yearly_temps(location)\n",
    "\n",
    "# Line plot using Altair\n",
    "alt.Chart(temps).mark_line().encode(\n",
    "    x = 'Year:O',\n",
    "    y = alt.Y('AverageTemperature', scale=alt.Scale(zero=False))\n",
    ").properties(\n",
    "    title = 'Yearly Average Temperatures (C) of ' + location,\n",
    "    width = 800\n",
    ")"
   ]
  },
  {
   "cell_type": "code",
   "execution_count": null,
   "metadata": {},
   "outputs": [],
   "source": [
    "location = 'Asia'\n",
    "temps = get_yearly_temps(location)\n",
    "\n",
    "# Line plot using Altair\n",
    "alt.Chart(temps).mark_line().encode(\n",
    "    x = 'Year:O',\n",
    "    y = alt.Y('AverageTemperature', scale=alt.Scale(zero=False))\n",
    ").properties(\n",
    "    title = 'Yearly Average Temperatures (C) of ' + location,\n",
    "    width = 800\n",
    ")"
   ]
  },
  {
   "cell_type": "markdown",
   "metadata": {},
   "source": [
    "### Oceania"
   ]
  },
  {
   "cell_type": "code",
   "execution_count": null,
   "metadata": {},
   "outputs": [],
   "source": [
    "location = 'Australia'\n",
    "temps = get_yearly_temps(location)\n",
    "\n",
    "# Line plot using Altair\n",
    "alt.Chart(temps).mark_line().encode(\n",
    "    x = 'Year:O',\n",
    "    y = alt.Y('AverageTemperature', scale=alt.Scale(zero=False))\n",
    ").properties(\n",
    "    title = 'Yearly Average Temperatures (C) of ' + location,\n",
    "    width = 800\n",
    ")"
   ]
  },
  {
   "cell_type": "code",
   "execution_count": null,
   "metadata": {},
   "outputs": [],
   "source": [
    "location = 'New Zealand'\n",
    "temps = get_yearly_temps(location)\n",
    "\n",
    "# Line plot using Altair\n",
    "alt.Chart(temps).mark_line().encode(\n",
    "    x = 'Year:O',\n",
    "    y = alt.Y('AverageTemperature', scale=alt.Scale(zero=False))\n",
    ").properties(\n",
    "    title = 'Yearly Average Temperatures (C) of ' + location,\n",
    "    width = 800\n",
    ")"
   ]
  },
  {
   "cell_type": "code",
   "execution_count": null,
   "metadata": {},
   "outputs": [],
   "source": [
    "location = 'Papua New Guinea'\n",
    "temps = get_yearly_temps(location)\n",
    "\n",
    "# Line plot using Altair\n",
    "alt.Chart(temps).mark_line().encode(\n",
    "    x = 'Year:O',\n",
    "    y = alt.Y('AverageTemperature', scale=alt.Scale(zero=False))\n",
    ").properties(\n",
    "    title = 'Yearly Average Temperatures (C) of ' + location,\n",
    "    width = 800\n",
    ")"
   ]
  },
  {
   "cell_type": "code",
   "execution_count": null,
   "metadata": {},
   "outputs": [],
   "source": [
    "location = 'Oceania'\n",
    "temps = get_yearly_temps(location)\n",
    "\n",
    "# Line plot using Altair\n",
    "alt.Chart(temps).mark_line().encode(\n",
    "    x = 'Year:O',\n",
    "    y = alt.Y('AverageTemperature', scale=alt.Scale(zero=False))\n",
    ").properties(\n",
    "    title = 'Yearly Average Temperatures (C) of ' + location,\n",
    "    width = 800\n",
    ")"
   ]
  },
  {
   "cell_type": "markdown",
   "metadata": {},
   "source": [
    "## Global Land Temperatures By Major City\n",
    "-------\n",
    "1. [New York City](#New-York-City)\n",
    "2. [Los Angeles](#Los-Angeles)\n",
    "3. [Chicago](#Chicago)\n",
    "4. [London](#London)\n",
    "5. [Paris](#Paris)"
   ]
  },
  {
   "cell_type": "markdown",
   "metadata": {},
   "source": [
    "### New York City"
   ]
  },
  {
   "cell_type": "code",
   "execution_count": null,
   "metadata": {},
   "outputs": [],
   "source": [
    "location = 'New York'\n",
    "temps = get_yearly_temps(location, dataset = 'Major City')\n",
    "\n",
    "# Line plot using Altair\n",
    "alt.Chart(temps).mark_line().encode(\n",
    "    x = 'Year:O',\n",
    "    y = alt.Y('AverageTemperature', scale=alt.Scale(zero=False))\n",
    ").properties(\n",
    "    title = 'Yearly Average Temperatures (C) of ' + location,\n",
    "    width = 800\n",
    ")"
   ]
  },
  {
   "cell_type": "markdown",
   "metadata": {},
   "source": [
    "### Los Angeles"
   ]
  },
  {
   "cell_type": "code",
   "execution_count": null,
   "metadata": {},
   "outputs": [],
   "source": [
    "location = 'Los Angeles'\n",
    "temps = get_yearly_temps(location)\n",
    "\n",
    "# Line plot using Altair\n",
    "alt.Chart(temps).mark_line().encode(\n",
    "    x = 'Year:O',\n",
    "    y = alt.Y('AverageTemperature', scale=alt.Scale(zero=False))\n",
    ").properties(\n",
    "    title = 'Yearly Average Temperatures (C) of ' + location,\n",
    "    width = 800\n",
    ")"
   ]
  },
  {
   "cell_type": "markdown",
   "metadata": {},
   "source": [
    "### Chicago"
   ]
  },
  {
   "cell_type": "code",
   "execution_count": null,
   "metadata": {},
   "outputs": [],
   "source": [
    "location = 'Chicago'\n",
    "temps = get_yearly_temps(location)\n",
    "\n",
    "# Line plot using Altair\n",
    "alt.Chart(temps).mark_line().encode(\n",
    "    x = 'Year:O',\n",
    "    y = alt.Y('AverageTemperature', scale=alt.Scale(zero=False))\n",
    ").properties(\n",
    "    title = 'Yearly Average Temperatures (C) of ' + location,\n",
    "    width = 800\n",
    ")"
   ]
  },
  {
   "cell_type": "markdown",
   "metadata": {},
   "source": [
    "### London"
   ]
  },
  {
   "cell_type": "code",
   "execution_count": null,
   "metadata": {},
   "outputs": [],
   "source": [
    "location = 'London'\n",
    "temps = get_yearly_temps(location)\n",
    "\n",
    "# Line plot using Altair\n",
    "alt.Chart(temps).mark_line().encode(\n",
    "    x = 'Year:O',\n",
    "    y = alt.Y('AverageTemperature', scale=alt.Scale(zero=False))\n",
    ").properties(\n",
    "    title = 'Yearly Average Temperatures (C) of ' + location,\n",
    "    width = 800\n",
    ")"
   ]
  },
  {
   "cell_type": "markdown",
   "metadata": {},
   "source": [
    "### Paris"
   ]
  },
  {
   "cell_type": "code",
   "execution_count": null,
   "metadata": {},
   "outputs": [],
   "source": [
    "location = 'Paris'\n",
    "temps = get_yearly_temps(location)\n",
    "\n",
    "# Line plot using Altair\n",
    "alt.Chart(temps).mark_line().encode(\n",
    "    x = 'Year:O',\n",
    "    y = alt.Y('AverageTemperature', scale=alt.Scale(zero=False))\n",
    ").properties(\n",
    "    title = 'Yearly Average Temperatures (C) of ' + location,\n",
    "    width = 800\n",
    ")"
   ]
  },
  {
   "cell_type": "markdown",
   "metadata": {},
   "source": [
    "## Global Land Temperatures By State\n",
    "-------\n",
    "1. [Illinois](#Illinois)\n",
    "2. [California](#California)\n",
    "3. [Florida](#Florida)\n",
    "4. [Texas](#Texas)\n",
    "5. [New York](#New-York)\n",
    "    \n",
    "Here I will be focusing on U.S. states, but states from other countries are included in the dataset."
   ]
  },
  {
   "cell_type": "markdown",
   "metadata": {},
   "source": [
    "### Illinois"
   ]
  },
  {
   "cell_type": "code",
   "execution_count": null,
   "metadata": {},
   "outputs": [],
   "source": [
    "location = 'Illinois'\n",
    "temps = get_yearly_temps(location)\n",
    "\n",
    "# Line plot using Altair\n",
    "alt.Chart(temps).mark_line().encode(\n",
    "    x = 'Year:O',\n",
    "    y = alt.Y('AverageTemperature', scale=alt.Scale(zero=False))\n",
    ").properties(\n",
    "    title = 'Yearly Average Temperatures (C) of ' + location,\n",
    "    width = 800\n",
    ")"
   ]
  },
  {
   "cell_type": "markdown",
   "metadata": {},
   "source": [
    "### California"
   ]
  },
  {
   "cell_type": "code",
   "execution_count": null,
   "metadata": {},
   "outputs": [],
   "source": [
    "location = 'California'\n",
    "temps = get_yearly_temps(location)\n",
    "\n",
    "# Line plot using Altair\n",
    "alt.Chart(temps).mark_line().encode(\n",
    "    x = 'Year:O',\n",
    "    y = alt.Y('AverageTemperature', scale=alt.Scale(zero=False))\n",
    ").properties(\n",
    "    title = 'Yearly Average Temperatures (C) of ' + location,\n",
    "    width = 800\n",
    ")"
   ]
  },
  {
   "cell_type": "markdown",
   "metadata": {},
   "source": [
    "### Florida"
   ]
  },
  {
   "cell_type": "code",
   "execution_count": null,
   "metadata": {},
   "outputs": [],
   "source": [
    "location = 'Florida'\n",
    "temps = get_yearly_temps(location)\n",
    "\n",
    "# Line plot using Altair\n",
    "alt.Chart(temps).mark_line().encode(\n",
    "    x = 'Year:O',\n",
    "    y = alt.Y('AverageTemperature', scale=alt.Scale(zero=False))\n",
    ").properties(\n",
    "    title = 'Yearly Average Temperatures (C) of ' + location,\n",
    "    width = 800\n",
    ")"
   ]
  },
  {
   "cell_type": "markdown",
   "metadata": {},
   "source": [
    "### Texas"
   ]
  },
  {
   "cell_type": "code",
   "execution_count": null,
   "metadata": {},
   "outputs": [],
   "source": [
    "location = 'Texas'\n",
    "temps = get_yearly_temps(location)\n",
    "\n",
    "# Line plot using Altair\n",
    "alt.Chart(temps).mark_line().encode(\n",
    "    x = 'Year:O',\n",
    "    y = alt.Y('AverageTemperature', scale=alt.Scale(zero=False))\n",
    ").properties(\n",
    "    title = 'Yearly Average Temperatures (C) of ' + location,\n",
    "    width = 800\n",
    ")"
   ]
  },
  {
   "cell_type": "markdown",
   "metadata": {},
   "source": [
    "### New York"
   ]
  },
  {
   "cell_type": "code",
   "execution_count": null,
   "metadata": {},
   "outputs": [],
   "source": [
    "location = 'New York'\n",
    "temps = get_yearly_temps(location, dataset = 'State')\n",
    "\n",
    "# Line plot using Altair\n",
    "alt.Chart(temps).mark_line().encode(\n",
    "    x = 'Year:O',\n",
    "    y = alt.Y('AverageTemperature', scale=alt.Scale(zero=False))\n",
    ").properties(\n",
    "    title = 'Yearly Average Temperatures (C) of ' + location,\n",
    "    width = 800\n",
    ")"
   ]
  },
  {
   "cell_type": "code",
   "execution_count": null,
   "metadata": {},
   "outputs": [],
   "source": []
  }
 ],
 "metadata": {
  "kernelspec": {
   "display_name": "earthscience",
   "language": "python",
   "name": "earthscience"
  },
  "language_info": {
   "codemirror_mode": {
    "name": "ipython",
    "version": 3
   },
   "file_extension": ".py",
   "mimetype": "text/x-python",
   "name": "python",
   "nbconvert_exporter": "python",
   "pygments_lexer": "ipython3",
   "version": "3.8.1"
  }
 },
 "nbformat": 4,
 "nbformat_minor": 4
}
